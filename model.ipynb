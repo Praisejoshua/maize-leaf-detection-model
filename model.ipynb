{
 "cells": [
  {
   "cell_type": "code",
   "execution_count": 7,
   "metadata": {},
   "outputs": [
    {
     "name": "stderr",
     "output_type": "stream",
     "text": [
      "100%|██████████| 3350/3350 [00:23<00:00, 140.88it/s]\n",
      "100%|██████████| 838/838 [00:06<00:00, 125.39it/s]\n"
     ]
    }
   ],
   "source": [
    "from datasets import load_dataset\n",
    "import os\n",
    "from PIL import Image\n",
    "from tqdm import tqdm\n",
    "\n",
    "# Load the dataset\n",
    "dataset = load_dataset('aquib1011/maize-leaf-disease', 'default')\n",
    "\n",
    "# Define label to class name mapping\n",
    "label_to_class_name = {\n",
    "    0: 'Blight',\n",
    "    1: 'Common_Rust',\n",
    "    2: 'Gray_Leaf_Spot',\n",
    "    3: 'Healthy'\n",
    "}\n",
    "\n",
    "# Create directories if they don't exist\n",
    "os.makedirs('data1/train', exist_ok=True)\n",
    "os.makedirs('data1/test', exist_ok=True)\n",
    "\n",
    "def save_images(dataset_split, split_name):\n",
    "    for i, item in enumerate(tqdm(dataset_split)):\n",
    "        image = item['image']\n",
    "        label = item['label']\n",
    "        class_name = label_to_class_name[label]  # Map label to class name\n",
    "        # Create subdirectory for the class name if it doesn't exist\n",
    "        class_dir = os.path.join(f'data1/{split_name}', class_name)\n",
    "        os.makedirs(class_dir, exist_ok=True)\n",
    "        # Convert image to RGB if it's in RGBA mode\n",
    "        if image.mode == 'RGBA':\n",
    "            image = image.convert('RGB')\n",
    "        # Save the image\n",
    "        image.save(os.path.join(class_dir, f\"{class_name}_{i}.jpg\"))\n",
    "\n",
    "# Save train and test images\n",
    "save_images(dataset['train'], 'train')\n",
    "save_images(dataset['test'], 'test')\n"
   ]
  },
  {
   "cell_type": "code",
   "execution_count": 8,
   "metadata": {},
   "outputs": [
    {
     "name": "stdout",
     "output_type": "stream",
     "text": [
      "Found 3350 images belonging to 4 classes.\n",
      "Found 838 images belonging to 4 classes.\n"
     ]
    }
   ],
   "source": [
    "from tensorflow.keras.preprocessing.image import ImageDataGenerator\n",
    "\n",
    "# Define data generators for train and test sets\n",
    "train_datagen = ImageDataGenerator(\n",
    "    rescale=1./255,\n",
    "    rotation_range=20,\n",
    "    width_shift_range=0.2,\n",
    "    height_shift_range=0.2,\n",
    "    shear_range=0.2,\n",
    "    zoom_range=0.2,\n",
    "    horizontal_flip=True,\n",
    "    fill_mode='nearest'\n",
    ")\n",
    "\n",
    "test_datagen = ImageDataGenerator(rescale=1./255)\n",
    "\n",
    "# Flow from directory for train and test sets\n",
    "train_generator = train_datagen.flow_from_directory(\n",
    "    'data1/train',\n",
    "    target_size=(150, 150),\n",
    "    batch_size=32,\n",
    "    class_mode='categorical'  # Use 'categorical' for multi-class classification\n",
    ")\n",
    "\n",
    "test_generator = test_datagen.flow_from_directory(\n",
    "    'data1/test',\n",
    "    target_size=(150, 150),\n",
    "    batch_size=32,\n",
    "    class_mode='categorical'  # Use 'categorical' for multi-class classification\n",
    ")\n"
   ]
  },
  {
   "cell_type": "code",
   "execution_count": 9,
   "metadata": {},
   "outputs": [],
   "source": [
    "from tensorflow.keras.models import Sequential\n",
    "from tensorflow.keras.layers import Conv2D, MaxPooling2D, Flatten, Dense, Dropout\n",
    "\n",
    "model = Sequential([\n",
    "    Conv2D(32, (3, 3), activation='relu', input_shape=(150, 150, 3)),\n",
    "    MaxPooling2D((2, 2)),\n",
    "    Conv2D(64, (3, 3), activation='relu'),\n",
    "    MaxPooling2D((2, 2)),\n",
    "    Conv2D(128, (3, 3), activation='relu'),\n",
    "    MaxPooling2D((2, 2)),\n",
    "    Flatten(),\n",
    "    Dense(512, activation='relu'),\n",
    "    Dropout(0.5),\n",
    "    Dense(4, activation='softmax')  # Adjust '4' to match the number of classes you have\n",
    "])\n",
    "\n",
    "model.compile(optimizer='adam', loss='categorical_crossentropy', metrics=['accuracy'])\n"
   ]
  },
  {
   "cell_type": "code",
   "execution_count": 10,
   "metadata": {},
   "outputs": [
    {
     "name": "stdout",
     "output_type": "stream",
     "text": [
      "Epoch 1/30\n",
      "105/105 [==============================] - 86s 808ms/step - loss: 0.7593 - accuracy: 0.6875 - val_loss: 0.6643 - val_accuracy: 0.7363\n",
      "Epoch 2/30\n",
      "105/105 [==============================] - 83s 786ms/step - loss: 0.4750 - accuracy: 0.8122 - val_loss: 0.4156 - val_accuracy: 0.8186\n",
      "Epoch 3/30\n",
      "105/105 [==============================] - 80s 761ms/step - loss: 0.4429 - accuracy: 0.8149 - val_loss: 0.4192 - val_accuracy: 0.8174\n",
      "Epoch 4/30\n",
      "105/105 [==============================] - 83s 785ms/step - loss: 0.4388 - accuracy: 0.8185 - val_loss: 0.4038 - val_accuracy: 0.8210\n",
      "Epoch 5/30\n",
      "105/105 [==============================] - 78s 739ms/step - loss: 0.3834 - accuracy: 0.8319 - val_loss: 0.3719 - val_accuracy: 0.8413\n",
      "Epoch 6/30\n",
      "105/105 [==============================] - 80s 764ms/step - loss: 0.3650 - accuracy: 0.8352 - val_loss: 0.3376 - val_accuracy: 0.8389\n",
      "Epoch 7/30\n",
      "105/105 [==============================] - 79s 748ms/step - loss: 0.3930 - accuracy: 0.8275 - val_loss: 0.3588 - val_accuracy: 0.8210\n",
      "Epoch 8/30\n",
      "105/105 [==============================] - 77s 729ms/step - loss: 0.3470 - accuracy: 0.8373 - val_loss: 0.3165 - val_accuracy: 0.8544\n",
      "Epoch 9/30\n",
      "105/105 [==============================] - 77s 730ms/step - loss: 0.3393 - accuracy: 0.8507 - val_loss: 0.3158 - val_accuracy: 0.8377\n",
      "Epoch 10/30\n",
      "105/105 [==============================] - 78s 742ms/step - loss: 0.3361 - accuracy: 0.8430 - val_loss: 0.3112 - val_accuracy: 0.8628\n",
      "Epoch 11/30\n",
      "105/105 [==============================] - 79s 749ms/step - loss: 0.3658 - accuracy: 0.8406 - val_loss: 0.3032 - val_accuracy: 0.8663\n",
      "Epoch 12/30\n",
      "105/105 [==============================] - 79s 752ms/step - loss: 0.3227 - accuracy: 0.8594 - val_loss: 0.3252 - val_accuracy: 0.8341\n",
      "Epoch 13/30\n",
      "105/105 [==============================] - 77s 731ms/step - loss: 0.2987 - accuracy: 0.8627 - val_loss: 0.2994 - val_accuracy: 0.8580\n",
      "Epoch 14/30\n",
      "105/105 [==============================] - 78s 745ms/step - loss: 0.3006 - accuracy: 0.8681 - val_loss: 0.2797 - val_accuracy: 0.8819\n",
      "Epoch 15/30\n",
      "105/105 [==============================] - 78s 745ms/step - loss: 0.2980 - accuracy: 0.8704 - val_loss: 0.2725 - val_accuracy: 0.8926\n",
      "Epoch 16/30\n",
      "105/105 [==============================] - 81s 769ms/step - loss: 0.2744 - accuracy: 0.8830 - val_loss: 0.2506 - val_accuracy: 0.8926\n",
      "Epoch 17/30\n",
      "105/105 [==============================] - 81s 774ms/step - loss: 0.2762 - accuracy: 0.8842 - val_loss: 0.2511 - val_accuracy: 0.8974\n",
      "Epoch 18/30\n",
      "105/105 [==============================] - 79s 755ms/step - loss: 0.2747 - accuracy: 0.8830 - val_loss: 0.2497 - val_accuracy: 0.8842\n",
      "Epoch 19/30\n",
      "105/105 [==============================] - 78s 744ms/step - loss: 0.2616 - accuracy: 0.8887 - val_loss: 0.2687 - val_accuracy: 0.8998\n",
      "Epoch 20/30\n",
      "105/105 [==============================] - 77s 731ms/step - loss: 0.2660 - accuracy: 0.8928 - val_loss: 0.2425 - val_accuracy: 0.9069\n",
      "Epoch 21/30\n",
      "105/105 [==============================] - 79s 756ms/step - loss: 0.2465 - accuracy: 0.9009 - val_loss: 0.2883 - val_accuracy: 0.8962\n",
      "Epoch 22/30\n",
      "105/105 [==============================] - 83s 786ms/step - loss: 0.2586 - accuracy: 0.8967 - val_loss: 0.2693 - val_accuracy: 0.8974\n",
      "Epoch 23/30\n",
      "105/105 [==============================] - 78s 739ms/step - loss: 0.2395 - accuracy: 0.9018 - val_loss: 0.3050 - val_accuracy: 0.8819\n",
      "Epoch 24/30\n",
      "105/105 [==============================] - 78s 740ms/step - loss: 0.2522 - accuracy: 0.8970 - val_loss: 0.2515 - val_accuracy: 0.9129\n",
      "Epoch 25/30\n",
      "105/105 [==============================] - 77s 735ms/step - loss: 0.2284 - accuracy: 0.9069 - val_loss: 0.2171 - val_accuracy: 0.9153\n",
      "Epoch 26/30\n",
      "105/105 [==============================] - 78s 740ms/step - loss: 0.2316 - accuracy: 0.9060 - val_loss: 0.2371 - val_accuracy: 0.9129\n",
      "Epoch 27/30\n",
      "105/105 [==============================] - 78s 739ms/step - loss: 0.2306 - accuracy: 0.9104 - val_loss: 0.2439 - val_accuracy: 0.9045\n",
      "Epoch 28/30\n",
      "105/105 [==============================] - 79s 754ms/step - loss: 0.2211 - accuracy: 0.9110 - val_loss: 0.2132 - val_accuracy: 0.9272\n",
      "Epoch 29/30\n",
      "105/105 [==============================] - 80s 759ms/step - loss: 0.2012 - accuracy: 0.9182 - val_loss: 0.3225 - val_accuracy: 0.8854\n",
      "Epoch 30/30\n",
      "105/105 [==============================] - 78s 740ms/step - loss: 0.2288 - accuracy: 0.9116 - val_loss: 0.2716 - val_accuracy: 0.9033\n"
     ]
    }
   ],
   "source": [
    "history = model.fit(\n",
    "    train_generator,\n",
    "    steps_per_epoch=len(train_generator),\n",
    "    epochs=30,\n",
    "    validation_data=test_generator,\n",
    "    validation_steps=len(test_generator)\n",
    ")\n"
   ]
  },
  {
   "cell_type": "code",
   "execution_count": 11,
   "metadata": {},
   "outputs": [
    {
     "name": "stdout",
     "output_type": "stream",
     "text": [
      "27/27 [==============================] - 3s 120ms/step - loss: 0.2716 - accuracy: 0.9033\n",
      "Test accuracy: 0.9033\n"
     ]
    }
   ],
   "source": [
    "# Evaluate the model on the test data\n",
    "test_loss, test_acc = model.evaluate(test_generator, steps=len(test_generator))\n",
    "print(f'Test accuracy: {test_acc:.4f}')\n"
   ]
  },
  {
   "cell_type": "code",
   "execution_count": 12,
   "metadata": {},
   "outputs": [
    {
     "name": "stderr",
     "output_type": "stream",
     "text": [
      "c:\\Users\\USER\\anaconda3\\envs\\maizeDisease\\lib\\site-packages\\keras\\src\\engine\\training.py:3000: UserWarning: You are saving your model as an HDF5 file via `model.save()`. This file format is considered legacy. We recommend using instead the native Keras format, e.g. `model.save('my_model.keras')`.\n",
      "  saving_api.save_model(\n"
     ]
    }
   ],
   "source": [
    "model.save(\"Mazie_leaf_disease_detector.h5\")"
   ]
  },
  {
   "cell_type": "code",
   "execution_count": 20,
   "metadata": {},
   "outputs": [],
   "source": [
    "# to test the model\n",
    "from tensorflow.keras.models import load_model\n",
    "\n",
    "model = load_model(\"./model/Mazie_leaf_disease_detector.h5\")"
   ]
  },
  {
   "cell_type": "code",
   "execution_count": 21,
   "metadata": {},
   "outputs": [],
   "source": [
    "from tensorflow.keras.preprocessing import image\n",
    "import numpy as np\n",
    "\n",
    "def preprocess_image(image_path):\n",
    "    img = image.load_img(image_path, target_size=(150, 150))\n",
    "    img_array = image.img_to_array(img)\n",
    "    img_array = np.expand_dims(img_array, axis=0)\n",
    "    return img_array / 255.0  # Normalize the image\n"
   ]
  },
  {
   "cell_type": "code",
   "execution_count": 19,
   "metadata": {},
   "outputs": [
    {
     "name": "stdout",
     "output_type": "stream",
     "text": [
      "1/1 [==============================] - 0s 42ms/step\n",
      "Predicted class: Common_Rust\n"
     ]
    }
   ],
   "source": [
    "# Path to your image\n",
    "image_path = './data1/train/Common_Rust/Common_Rust_1010.jpg'\n",
    "\n",
    "# Preprocess the image\n",
    "processed_img = preprocess_image(image_path)\n",
    "\n",
    "# Make predictions\n",
    "predictions = model.predict(processed_img)\n",
    "\n",
    "predicted_class = np.argmax(predictions[0])\n",
    "\n",
    "# Map the predicted class index to your class labels\n",
    "class_mapping = {\n",
    "    0: 'Blight',\n",
    "    1: 'Common_Rust',\n",
    "    2: 'Gray_Leaf_Spot',\n",
    "    3: 'Healthy'\n",
    "}\n",
    "\n",
    "predicted_label = class_mapping[predicted_class]\n",
    "print(f'Predicted class: {predicted_label}')\n"
   ]
  },
  {
   "cell_type": "markdown",
   "metadata": {},
   "source": [
    "CLASSIFICATION REPORT"
   ]
  },
  {
   "cell_type": "code",
   "execution_count": 27,
   "metadata": {},
   "outputs": [
    {
     "name": "stdout",
     "output_type": "stream",
     "text": [
      "Collecting scikit-learn\n",
      "  Using cached scikit_learn-1.3.2-cp38-cp38-win_amd64.whl.metadata (11 kB)\n",
      "Requirement already satisfied: numpy<2.0,>=1.17.3 in c:\\users\\user\\anaconda3\\envs\\maizedisease\\lib\\site-packages (from scikit-learn) (1.24.3)\n",
      "Requirement already satisfied: scipy>=1.5.0 in c:\\users\\user\\anaconda3\\envs\\maizedisease\\lib\\site-packages (from scikit-learn) (1.10.1)\n",
      "Collecting joblib>=1.1.1 (from scikit-learn)\n",
      "  Downloading joblib-1.4.2-py3-none-any.whl.metadata (5.4 kB)\n",
      "Collecting threadpoolctl>=2.0.0 (from scikit-learn)\n",
      "  Downloading threadpoolctl-3.5.0-py3-none-any.whl.metadata (13 kB)\n",
      "Using cached scikit_learn-1.3.2-cp38-cp38-win_amd64.whl (9.3 MB)\n",
      "Downloading joblib-1.4.2-py3-none-any.whl (301 kB)\n",
      "   ---------------------------------------- 0.0/301.8 kB ? eta -:--:--\n",
      "   - -------------------------------------- 10.2/301.8 kB ? eta -:--:--\n",
      "   - -------------------------------------- 10.2/301.8 kB ? eta -:--:--\n",
      "   - -------------------------------------- 10.2/301.8 kB ? eta -:--:--\n",
      "   - -------------------------------------- 10.2/301.8 kB ? eta -:--:--\n",
      "   - -------------------------------------- 10.2/301.8 kB ? eta -:--:--\n",
      "   ---------- ---------------------------- 81.9/301.8 kB 327.3 kB/s eta 0:00:01\n",
      "   -------------- ----------------------- 112.6/301.8 kB 385.0 kB/s eta 0:00:01\n",
      "   ------------------ ------------------- 143.4/301.8 kB 405.9 kB/s eta 0:00:01\n",
      "   ------------------ ------------------- 143.4/301.8 kB 405.9 kB/s eta 0:00:01\n",
      "   --------------------- ---------------- 174.1/301.8 kB 403.5 kB/s eta 0:00:01\n",
      "   ---------------------------- --------- 225.3/301.8 kB 444.3 kB/s eta 0:00:01\n",
      "   ------------------------------ ------- 245.8/301.8 kB 456.4 kB/s eta 0:00:01\n",
      "   ------------------------------ ------- 245.8/301.8 kB 456.4 kB/s eta 0:00:01\n",
      "   -------------------------------------  297.0/301.8 kB 470.8 kB/s eta 0:00:01\n",
      "   -------------------------------------- 301.8/301.8 kB 466.5 kB/s eta 0:00:00\n",
      "Downloading threadpoolctl-3.5.0-py3-none-any.whl (18 kB)\n",
      "Installing collected packages: threadpoolctl, joblib, scikit-learn\n",
      "Successfully installed joblib-1.4.2 scikit-learn-1.3.2 threadpoolctl-3.5.0\n"
     ]
    },
    {
     "name": "stderr",
     "output_type": "stream",
     "text": [
      "WARNING: Retrying (Retry(total=4, connect=None, read=None, redirect=None, status=None)) after connection broken by 'ReadTimeoutError(\"HTTPSConnectionPool(host='pypi.org', port=443): Read timed out. (read timeout=15)\")': /simple/joblib/\n"
     ]
    }
   ],
   "source": [
    "!pip install scikit-learn\n"
   ]
  },
  {
   "cell_type": "code",
   "execution_count": 30,
   "metadata": {},
   "outputs": [
    {
     "name": "stdout",
     "output_type": "stream",
     "text": [
      "1/1 [==============================] - 0s 289ms/step\n",
      "1/1 [==============================] - 0s 115ms/step\n",
      "              precision    recall  f1-score   support\n",
      "\n",
      "           0       1.00      1.00      1.00         1\n",
      "           3       1.00      1.00      1.00         1\n",
      "\n",
      "    accuracy                           1.00         2\n",
      "   macro avg       1.00      1.00      1.00         2\n",
      "weighted avg       1.00      1.00      1.00         2\n",
      "\n"
     ]
    }
   ],
   "source": [
    "from tensorflow.keras.models import load_model\n",
    "from tensorflow.keras.preprocessing import image\n",
    "import numpy as np\n",
    "from sklearn.metrics import classification_report\n",
    "\n",
    "# Load your saved model (replace 'detector.h5' with your actual model file)\n",
    "model = load_model('./model/Mazie_leaf_disease_detector.h5')\n",
    "\n",
    "# Function to preprocess an image\n",
    "def preprocess_image(image_path):\n",
    "    try:\n",
    "        img = image.load_img(image_path, target_size=(150, 150))\n",
    "        img_array = image.img_to_array(img)\n",
    "        img_array = np.expand_dims(img_array, axis=0)\n",
    "        return img_array / 255.0  # Normalize the image\n",
    "    except Exception as e:\n",
    "        print(f\"Error processing image {image_path}: {e}\")\n",
    "        return None  # Handle gracefully in your application\n",
    "\n",
    "# List of test image paths (replace with your actual test image paths)\n",
    "test_image_paths = [\n",
    "    './data1/train/Blight/Blight_102.jpg',\n",
    "    './data1/train/Healthy/Healthy_1009.jpg',\n",
    "]\n",
    "\n",
    "predictions = []\n",
    "\n",
    "# Process each test image and make predictions\n",
    "for image_path in test_image_paths:\n",
    "    processed_img = preprocess_image(image_path)\n",
    "    if processed_img is not None:\n",
    "        prediction = model.predict(processed_img)\n",
    "        predicted_class = np.argmax(prediction[0])\n",
    "        predictions.append(predicted_class)\n",
    "    else:\n",
    "        print(f\"Skipping prediction for {image_path} due to processing error.\")\n",
    "\n",
    "# Assuming you have ground truth labels for your test images (replace with actual labels)\n",
    "true_labels = [0, 3] \n",
    "\n",
    "# Generate and print classification report\n",
    "report = classification_report(true_labels, predictions)\n",
    "print(report)\n"
   ]
  },
  {
   "cell_type": "code",
   "execution_count": null,
   "metadata": {},
   "outputs": [],
   "source": []
  }
 ],
 "metadata": {
  "kernelspec": {
   "display_name": "maizeDisease",
   "language": "python",
   "name": "python3"
  },
  "language_info": {
   "codemirror_mode": {
    "name": "ipython",
    "version": 3
   },
   "file_extension": ".py",
   "mimetype": "text/x-python",
   "name": "python",
   "nbconvert_exporter": "python",
   "pygments_lexer": "ipython3",
   "version": "3.8.19"
  }
 },
 "nbformat": 4,
 "nbformat_minor": 2
}
